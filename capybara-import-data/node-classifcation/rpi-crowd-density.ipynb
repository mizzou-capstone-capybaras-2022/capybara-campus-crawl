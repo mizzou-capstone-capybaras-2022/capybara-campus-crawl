{
 "cells": [
  {
   "cell_type": "code",
   "execution_count": 20,
   "metadata": {},
   "outputs": [],
   "source": [
    "import csv\n",
    "from enum import Enum \n",
    "from typing import List\n",
    "import datetime \n",
    "import time"
   ]
  },
  {
   "cell_type": "code",
   "execution_count": 21,
   "metadata": {},
   "outputs": [],
   "source": [
    "class IoT(object):\n",
    "    def __init__(self, nodeId: int, time: datetime.datetime, intensity: int):\n",
    "        self.nodeId = nodeId\n",
    "        self.time = time\n",
    "        self.intensity = intensity\n",
    "\n",
    "    def sql_insert(self) -> str:\n",
    "        return f'''INSERT INTO public.\"PIMetrics\"(\n",
    "\t\"NodeID\", \"Time\", \"Intensity\")\n",
    "\tVALUES ({self.nodeId}, '{self.time}', {self.intensity});'''"
   ]
  },
  {
   "cell_type": "code",
   "execution_count": 22,
   "metadata": {},
   "outputs": [],
   "source": [
    "iotDevices: List[IoT] = []\n",
    "\n",
    "with open('varying-crowd-density.csv') as csvfile:\n",
    "    node_classification_reader = csv.reader(csvfile, delimiter=',')\n",
    "\n",
    "    next(node_classification_reader)\n",
    "    \n",
    "    for row in node_classification_reader:\n",
    "        nodeId = row[0]\n",
    "        place_type_raw = row[1].strip()\n",
    "        t = datetime.datetime.now()\n",
    "\n",
    "        device= IoT(int(nodeId), t, 1)\n",
    "        iotDevices.append(device)"
   ]
  },
  {
   "cell_type": "code",
   "execution_count": 23,
   "metadata": {},
   "outputs": [
    {
     "name": "stdout",
     "output_type": "stream",
     "text": [
      "INSERT INTO public.\"PIMetrics\"(\n",
      "\t\"NodeID\", \"Time\", \"Intensity\")\n",
      "\tVALUES (59, '2022-05-10 16:51:47.204820', 1);\n",
      "INSERT INTO public.\"PIMetrics\"(\n",
      "\t\"NodeID\", \"Time\", \"Intensity\")\n",
      "\tVALUES (86, '2022-05-10 16:51:47.204836', 1);\n",
      "INSERT INTO public.\"PIMetrics\"(\n",
      "\t\"NodeID\", \"Time\", \"Intensity\")\n",
      "\tVALUES (96, '2022-05-10 16:51:47.204842', 1);\n",
      "INSERT INTO public.\"PIMetrics\"(\n",
      "\t\"NodeID\", \"Time\", \"Intensity\")\n",
      "\tVALUES (105, '2022-05-10 16:51:47.204846', 1);\n",
      "INSERT INTO public.\"PIMetrics\"(\n",
      "\t\"NodeID\", \"Time\", \"Intensity\")\n",
      "\tVALUES (117, '2022-05-10 16:51:47.204864', 1);\n"
     ]
    }
   ],
   "source": [
    "for device in iotDevices:\n",
    "    print(device.sql_insert())"
   ]
  }
 ],
 "metadata": {
  "interpreter": {
   "hash": "916dbcbb3f70747c44a77c7bcd40155683ae19c65e1c03b4aa3499c5328201f1"
  },
  "kernelspec": {
   "display_name": "Python 3.8.10 64-bit",
   "language": "python",
   "name": "python3"
  },
  "language_info": {
   "codemirror_mode": {
    "name": "ipython",
    "version": 3
   },
   "file_extension": ".py",
   "mimetype": "text/x-python",
   "name": "python",
   "nbconvert_exporter": "python",
   "pygments_lexer": "ipython3",
   "version": "3.8.10"
  },
  "orig_nbformat": 4
 },
 "nbformat": 4,
 "nbformat_minor": 2
}
