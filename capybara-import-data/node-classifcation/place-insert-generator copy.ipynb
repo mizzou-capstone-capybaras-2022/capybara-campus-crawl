{
 "cells": [
  {
   "cell_type": "code",
   "execution_count": 71,
   "metadata": {},
   "outputs": [],
   "source": [
    "import csv\n",
    "from enum import Enum \n",
    "from typing import List"
   ]
  },
  {
   "cell_type": "code",
   "execution_count": 72,
   "metadata": {},
   "outputs": [],
   "source": [
    "class PlaceType(Enum):\n",
    "    study=\"STUDY\"\n",
    "    classroom=\"CLASSROOM\"\n",
    "    dining=\"DINING\"\n",
    "\n",
    "class Place(object):\n",
    "    def __init__(self, nodeId: int, place_type: PlaceType):\n",
    "        self.nodeId = nodeId\n",
    "        self.place_type = place_type\n",
    "\n",
    "    def sql_insert(self) -> str:\n",
    "        return f'''INSERT INTO public.\"Place\"(\n",
    "                    \"NodeID\", \"PlaceType\")\n",
    "                    VALUES ({self.nodeId}, '{self.place_type.value}');'''"
   ]
  },
  {
   "cell_type": "code",
   "execution_count": 73,
   "metadata": {},
   "outputs": [],
   "source": [
    "places: List[Place] = []\n",
    "\n",
    "with open('classroom-dining-study.csv') as csvfile:\n",
    "    node_classification_reader = csv.reader(csvfile, delimiter=',')\n",
    "\n",
    "    next(node_classification_reader)\n",
    "    \n",
    "    for row in node_classification_reader:\n",
    "        nodeId = row[0]\n",
    "        place_type_raw = row[1].strip()\n",
    "        \n",
    "        parsedPlace = Place(int(nodeId), PlaceType[place_type_raw])\n",
    "        places.append(parsedPlace)"
   ]
  },
  {
   "cell_type": "code",
   "execution_count": 74,
   "metadata": {},
   "outputs": [
    {
     "name": "stdout",
     "output_type": "stream",
     "text": [
      "INSERT INTO public.\"Place\"(\n",
      "                    \"NodeID\", \"PlaceType\")\n",
      "                    VALUES (31, 'DINING');\n",
      "INSERT INTO public.\"Place\"(\n",
      "                    \"NodeID\", \"PlaceType\")\n",
      "                    VALUES (53, 'DINING');\n",
      "INSERT INTO public.\"Place\"(\n",
      "                    \"NodeID\", \"PlaceType\")\n",
      "                    VALUES (105, 'STUDY');\n",
      "INSERT INTO public.\"Place\"(\n",
      "                    \"NodeID\", \"PlaceType\")\n",
      "                    VALUES (45, 'CLASSROOM');\n",
      "INSERT INTO public.\"Place\"(\n",
      "                    \"NodeID\", \"PlaceType\")\n",
      "                    VALUES (33, 'CLASSROOM');\n"
     ]
    }
   ],
   "source": [
    "for place in places:\n",
    "    print(place.sql_insert())"
   ]
  }
 ],
 "metadata": {
  "interpreter": {
   "hash": "916dbcbb3f70747c44a77c7bcd40155683ae19c65e1c03b4aa3499c5328201f1"
  },
  "kernelspec": {
   "display_name": "Python 3.8.10 64-bit",
   "language": "python",
   "name": "python3"
  },
  "language_info": {
   "codemirror_mode": {
    "name": "ipython",
    "version": 3
   },
   "file_extension": ".py",
   "mimetype": "text/x-python",
   "name": "python",
   "nbconvert_exporter": "python",
   "pygments_lexer": "ipython3",
   "version": "3.8.10"
  },
  "orig_nbformat": 4
 },
 "nbformat": 4,
 "nbformat_minor": 2
}
